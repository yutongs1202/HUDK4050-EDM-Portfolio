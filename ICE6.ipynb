{
 "cells": [
  {
   "cell_type": "markdown",
   "metadata": {},
   "source": [
    "## Principal Component Analysis"
   ]
  },
  {
   "cell_type": "markdown",
   "metadata": {},
   "source": [
    "**Course:** HUDK4050, Week 8"
   ]
  },
  {
   "cell_type": "markdown",
   "metadata": {},
   "source": [
    "**Author:** Yutong Shen"
   ]
  },
  {
   "cell_type": "markdown",
   "metadata": {},
   "source": [
    "**Assignment:** ICE6"
   ]
  },
  {
   "cell_type": "markdown",
   "metadata": {},
   "source": [
    "### Principal Component Analysis"
   ]
  },
  {
   "cell_type": "markdown",
   "metadata": {},
   "source": [
    "PCA is fundamentally a dimensionality reduction algorithm, and it can also be useful as a tool for visualization, noise filtering, feature selction, many more. After a brief conceptual discussion of the PCA algorithm, we will see a couple examples of these further applications."
   ]
  },
  {
   "cell_type": "markdown",
   "metadata": {},
   "source": [
    "Let's first start with a simple 2 dimension example with 200 random points that are roughly around y = 1+2x."
   ]
  },
  {
   "cell_type": "code",
   "execution_count": 2,
   "metadata": {},
   "outputs": [],
   "source": [
    "# Import the standard stuff\n",
    "import pandas as pd\n",
    "import numpy as np\n",
    "from matplotlib import pyplot as plt"
   ]
  },
  {
   "cell_type": "code",
   "execution_count": 3,
   "metadata": {},
   "outputs": [
    {
     "data": {
      "text/plain": [
       "<matplotlib.collections.PathCollection at 0x7fccda3e53d0>"
      ]
     },
     "execution_count": 3,
     "metadata": {},
     "output_type": "execute_result"
    },
    {
     "data": {
      "image/png": "[encoded data removed]",
      "text/plain": [
       "<Figure size 432x288 with 1 Axes>"
      ]
     },
     "metadata": {
      "needs_background": "light"
     },
     "output_type": "display_data"
    }
   ],
   "source": [
    "np.random.seed(123)\n",
    "\n",
    "X = np.random.randn(200) + 1.5 ## Array of 200 values of x with means of 1 (by default) and sd of 1.5\n",
    "res = 0.5 * np.random.randn(200) ## Generate 200 residuals with sd of 0.5\n",
    "y = 1 + 2 * X + res\n",
    "\n",
    "twoDData = np.c_[X,y]\n",
    "\n",
    "plt.scatter(twoDData[:, 0], twoDData[:, 1])"
   ]
  },
  {
   "cell_type": "markdown",
   "metadata": {},
   "source": [
    "The relationship can be well-explained by our simple linear regression, but the problem we are looking here is slightly different: Rather than using an supervised approach to teach an algorithm to predict y values from x values, we want to use an unsupervised learning algorithm to learn about the relationship between xs and ys by finding a list of the principal axes in the data, and using those axes to describe the dataset.\n",
    "\n",
    "Using Scikit-Learn's PCA estimator, we can compute this as follows:"
   ]
  },
  {
   "cell_type": "code",
   "execution_count": 4,
   "metadata": {},
   "outputs": [
    {
     "data": {
      "text/plain": [
       "PCA(n_components=2)"
      ]
     },
     "execution_count": 4,
     "metadata": {},
     "output_type": "execute_result"
    }
   ],
   "source": [
    "from sklearn.decomposition import PCA\n",
    "\n",
    "pca = PCA(n_components=2)\n",
    "pca.fit(twoDData)"
   ]
  },
  {
   "cell_type": "markdown",
   "metadata": {},
   "source": [
    "The fit learns some quantities from the data, most importantly the pca.components_ and explained_variance:"
   ]
  },
  {
   "cell_type": "code",
   "execution_count": 5,
   "metadata": {},
   "outputs": [
    {
     "name": "stdout",
     "output_type": "stream",
     "text": [
      "[[-0.43316568 -0.90131431]\n",
      " [-0.90131431  0.43316568]]\n"
     ]
    }
   ],
   "source": [
    "print(pca.components_)"
   ]
  },
  {
   "cell_type": "code",
   "execution_count": 6,
   "metadata": {},
   "outputs": [
    {
     "name": "stdout",
     "output_type": "stream",
     "text": [
      "[5.75175781 0.04167795]\n"
     ]
    }
   ],
   "source": [
    "print(pca.explained_variance_)"
   ]
  },
  {
   "cell_type": "markdown",
   "metadata": {},
   "source": [
    "The two vectors in pca.components_ represent the principal axes of the data: one pointing to the lower left (i.e., -0.43, -0.90) and explaining a lot more variance (5.75) and another orthorgnal to the first axis and explaining much less variance (0.04). The projection of each data point onto the principal axes are the \"principal components\" of the data. By comparing the variance_explained, we can conclude that the first component is more important than the second one."
   ]
  },
  {
   "cell_type": "markdown",
   "metadata": {},
   "source": [
    "With the pca vector information, we can use it to transform the original data. This transformation from data axes to principal axes is an affine transformation, which basically means it is composed of a translation, rotation, and uniform scaling.\n",
    "\n",
    "While this algorithm to find principal components may seem like just a mathematical curiosity, it turns out to have very far-reaching applications in the world of machine learning and data exploration.\n",
    "\n",
    "For example, it can be used for dimension reduction if the number of principal component is smaller than the original data dimensions."
   ]
  },
  {
   "cell_type": "code",
   "execution_count": 7,
   "metadata": {},
   "outputs": [
    {
     "name": "stdout",
     "output_type": "stream",
     "text": [
      "original shape:    (200, 2)\n",
      "transformed shape: (200, 1)\n"
     ]
    }
   ],
   "source": [
    "pca = PCA(n_components=1)\n",
    "pca.fit(twoDData)\n",
    "twoDData_dr = pca.transform(twoDData)\n",
    "print(\"original shape:   \", twoDData.shape)\n",
    "print(\"transformed shape:\", twoDData_dr.shape)"
   ]
  },
  {
   "cell_type": "markdown",
   "metadata": {},
   "source": [
    "### PCA for Dimension Reduction"
   ]
  },
  {
   "cell_type": "markdown",
   "metadata": {},
   "source": [
    "The transformed data has been reduced to a single dimension. To understand the effect of this dimensionality reduction, we can perform the inverse transform of this reduced data and plot it along with the original data:"
   ]
  },
  {
   "cell_type": "code",
   "execution_count": 8,
   "metadata": {},
   "outputs": [
    {
     "data": {
      "text/plain": [
       "<matplotlib.collections.PathCollection at 0x7fccdba55150>"
      ]
     },
     "execution_count": 8,
     "metadata": {},
     "output_type": "execute_result"
    },
    {
     "data": {
      "image/png": "[encoded data removed]",
      "text/plain": [
       "<Figure size 432x288 with 1 Axes>"
      ]
     },
     "metadata": {
      "needs_background": "light"
     },
     "output_type": "display_data"
    }
   ],
   "source": [
    "twoDData_new = pca.inverse_transform(twoDData_dr)\n",
    "plt.scatter(twoDData[:, 0], twoDData[:, 1], alpha=0.5)\n",
    "plt.scatter(twoDData_new[:, 0], twoDData_new[:, 1], alpha=0.8)"
   ]
  },
  {
   "cell_type": "markdown",
   "metadata": {},
   "source": [
    "The blue points are the original data, while the organge points are the projected version. This makes clear what a PCA dimensionality reduction means: the information along the least important principal axis or axes is removed, leaving only the component(s) of the data with the highest variance. The fraction of variance that is cut out (proportional to the spread of points about the line formed in this figure) is roughly a measure of how much \"information\" is discarded in this reduction of dimensionality.\n",
    "\n",
    "This reduced-dimension dataset is in some senses \"good enough\" to encode the most important relationships between the points: despite reducing the dimension of the data by 50%, the overall relationship between the data points are mostly preserved."
   ]
  },
  {
   "cell_type": "markdown",
   "metadata": {},
   "source": [
    "### PCA Example in an Intelligent Tutoring System"
   ]
  },
  {
   "cell_type": "markdown",
   "metadata": {},
   "source": [
    "Next, let's see a real world example: We will be using data from the Assistments Intelligent Tutoring system. This system gives students hints based on how they perform on math problems. We want to see if we can build a decision tree to help teachers decide which students to follow up with, based on students' performance in Assistments.\n",
    "\n",
    "Here are the variables:\n",
    "    \n",
    "* id - student id\n",
    "* prior_prob_count - The number of problems a student has done in the system prior to the current session\n",
    "* prior_percent_correct - The percentage of problems a student has answered correctly piror to the current session\n",
    "* problems_attempted - The number of problems a student has attempted in this current session\n",
    "* mean_correct - The percentage of correct problems in this currect session\n",
    "* mean_hint - The average number of hints the student requested in the current session\n",
    "* mean_attempt - The average attempts for each problem\n",
    "* mean_confidence - The reported confidence a student has reported at the end of the session"
   ]
  },
  {
   "cell_type": "code",
   "execution_count": 9,
   "metadata": {},
   "outputs": [
    {
     "data": {
      "text/html": [
       "<div>\n",
       "<style scoped>\n",
       "    .dataframe tbody tr th:only-of-type {\n",
       "        vertical-align: middle;\n",
       "    }\n",
       "\n",
       "    .dataframe tbody tr th {\n",
       "        vertical-align: top;\n",
       "    }\n",
       "\n",
       "    .dataframe thead th {\n",
       "        text-align: right;\n",
       "    }\n",
       "</style>\n",
       "<table border=\"1\" class=\"dataframe\">\n",
       "  <thead>\n",
       "    <tr style=\"text-align: right;\">\n",
       "      <th></th>\n",
       "      <th>id</th>\n",
       "      <th>prior_prob_count</th>\n",
       "      <th>prior_percent_correct</th>\n",
       "      <th>problems_attempted</th>\n",
       "      <th>mean_correct</th>\n",
       "      <th>mean_hint</th>\n",
       "      <th>mean_attempt</th>\n",
       "      <th>mean_confidence</th>\n",
       "    </tr>\n",
       "  </thead>\n",
       "  <tbody>\n",
       "    <tr>\n",
       "      <td>0</td>\n",
       "      <td>172777</td>\n",
       "      <td>650</td>\n",
       "      <td>0.723077</td>\n",
       "      <td>4</td>\n",
       "      <td>1.000000</td>\n",
       "      <td>0.000000</td>\n",
       "      <td>1.000000</td>\n",
       "      <td>0.550159</td>\n",
       "    </tr>\n",
       "    <tr>\n",
       "      <td>1</td>\n",
       "      <td>175658</td>\n",
       "      <td>1159</td>\n",
       "      <td>0.800690</td>\n",
       "      <td>22</td>\n",
       "      <td>0.454545</td>\n",
       "      <td>2.227273</td>\n",
       "      <td>1.227273</td>\n",
       "      <td>0.437515</td>\n",
       "    </tr>\n",
       "    <tr>\n",
       "      <td>2</td>\n",
       "      <td>175669</td>\n",
       "      <td>1239</td>\n",
       "      <td>0.656981</td>\n",
       "      <td>11</td>\n",
       "      <td>0.636364</td>\n",
       "      <td>1.363636</td>\n",
       "      <td>1.727273</td>\n",
       "      <td>0.511060</td>\n",
       "    </tr>\n",
       "    <tr>\n",
       "      <td>3</td>\n",
       "      <td>176151</td>\n",
       "      <td>1246</td>\n",
       "      <td>0.729535</td>\n",
       "      <td>16</td>\n",
       "      <td>0.750000</td>\n",
       "      <td>0.562500</td>\n",
       "      <td>1.187500</td>\n",
       "      <td>0.491578</td>\n",
       "    </tr>\n",
       "    <tr>\n",
       "      <td>4</td>\n",
       "      <td>176165</td>\n",
       "      <td>1299</td>\n",
       "      <td>0.568129</td>\n",
       "      <td>6</td>\n",
       "      <td>0.333333</td>\n",
       "      <td>2.166667</td>\n",
       "      <td>2.000000</td>\n",
       "      <td>0.409887</td>\n",
       "    </tr>\n",
       "    <tr>\n",
       "      <td>...</td>\n",
       "      <td>...</td>\n",
       "      <td>...</td>\n",
       "      <td>...</td>\n",
       "      <td>...</td>\n",
       "      <td>...</td>\n",
       "      <td>...</td>\n",
       "      <td>...</td>\n",
       "      <td>...</td>\n",
       "    </tr>\n",
       "    <tr>\n",
       "      <td>337</td>\n",
       "      <td>253464</td>\n",
       "      <td>9</td>\n",
       "      <td>0.222222</td>\n",
       "      <td>23</td>\n",
       "      <td>0.782609</td>\n",
       "      <td>0.000000</td>\n",
       "      <td>1.347826</td>\n",
       "      <td>0.602103</td>\n",
       "    </tr>\n",
       "    <tr>\n",
       "      <td>338</td>\n",
       "      <td>253517</td>\n",
       "      <td>6</td>\n",
       "      <td>0.833333</td>\n",
       "      <td>16</td>\n",
       "      <td>0.562500</td>\n",
       "      <td>0.562500</td>\n",
       "      <td>2.062500</td>\n",
       "      <td>0.571269</td>\n",
       "    </tr>\n",
       "    <tr>\n",
       "      <td>339</td>\n",
       "      <td>255494</td>\n",
       "      <td>12</td>\n",
       "      <td>0.750000</td>\n",
       "      <td>3</td>\n",
       "      <td>0.666667</td>\n",
       "      <td>0.666667</td>\n",
       "      <td>1.333333</td>\n",
       "      <td>0.563379</td>\n",
       "    </tr>\n",
       "    <tr>\n",
       "      <td>340</td>\n",
       "      <td>256227</td>\n",
       "      <td>84</td>\n",
       "      <td>0.678571</td>\n",
       "      <td>3</td>\n",
       "      <td>0.333333</td>\n",
       "      <td>1.666667</td>\n",
       "      <td>1.333333</td>\n",
       "      <td>0.567501</td>\n",
       "    </tr>\n",
       "    <tr>\n",
       "      <td>341</td>\n",
       "      <td>257289</td>\n",
       "      <td>20</td>\n",
       "      <td>1.000000</td>\n",
       "      <td>4</td>\n",
       "      <td>1.000000</td>\n",
       "      <td>0.000000</td>\n",
       "      <td>1.000000</td>\n",
       "      <td>0.439283</td>\n",
       "    </tr>\n",
       "  </tbody>\n",
       "</table>\n",
       "<p>342 rows × 8 columns</p>\n",
       "</div>"
      ],
      "text/plain": [
       "         id  prior_prob_count  prior_percent_correct  problems_attempted  \\\n",
       "0    172777               650               0.723077                   4   \n",
       "1    175658              1159               0.800690                  22   \n",
       "2    175669              1239               0.656981                  11   \n",
       "3    176151              1246               0.729535                  16   \n",
       "4    176165              1299               0.568129                   6   \n",
       "..      ...               ...                    ...                 ...   \n",
       "337  253464                 9               0.222222                  23   \n",
       "338  253517                 6               0.833333                  16   \n",
       "339  255494                12               0.750000                   3   \n",
       "340  256227                84               0.678571                   3   \n",
       "341  257289                20               1.000000                   4   \n",
       "\n",
       "     mean_correct  mean_hint  mean_attempt  mean_confidence  \n",
       "0        1.000000   0.000000      1.000000         0.550159  \n",
       "1        0.454545   2.227273      1.227273         0.437515  \n",
       "2        0.636364   1.363636      1.727273         0.511060  \n",
       "3        0.750000   0.562500      1.187500         0.491578  \n",
       "4        0.333333   2.166667      2.000000         0.409887  \n",
       "..            ...        ...           ...              ...  \n",
       "337      0.782609   0.000000      1.347826         0.602103  \n",
       "338      0.562500   0.562500      2.062500         0.571269  \n",
       "339      0.666667   0.666667      1.333333         0.563379  \n",
       "340      0.333333   1.666667      1.333333         0.567501  \n",
       "341      1.000000   0.000000      1.000000         0.439283  \n",
       "\n",
       "[342 rows x 8 columns]"
      ]
     },
     "execution_count": 9,
     "metadata": {},
     "output_type": "execute_result"
    }
   ],
   "source": [
    "ICEdata = pd.read_csv(\"ICE6_Data.csv\")\n",
    "ICEdata"
   ]
  },
  {
   "cell_type": "code",
   "execution_count": 15,
   "metadata": {},
   "outputs": [
    {
     "name": "stdout",
     "output_type": "stream",
     "text": [
      "The principal components are:\n",
      "[[ 9.99998379e-01  3.25231653e-05  1.72229676e-03  6.65415156e-05\n",
      "   4.97054823e-04  1.49367002e-04  1.15030348e-05]\n",
      " [-1.73541120e-03  1.03037706e-03  9.99602228e-01  2.30861751e-03\n",
      "   2.23020180e-02  1.69662730e-02 -8.64582845e-04]\n",
      " [-3.87330335e-04 -3.27396081e-02 -2.70451869e-02 -1.24635620e-01\n",
      "   6.73010236e-01  7.27812593e-01  2.92226368e-03]\n",
      " [ 2.29120283e-04  3.26414469e-02  3.68040760e-03  1.78860696e-01\n",
      "  -7.05688901e-01  6.84765009e-01  5.46329794e-03]\n",
      " [ 1.63571033e-04 -1.96336169e-01  6.70115719e-03 -9.52166155e-01\n",
      "  -2.19898499e-01  3.19977181e-02 -7.35362922e-02]\n",
      " [ 1.91456302e-05 -9.79282671e-01  7.60612436e-04  1.99617334e-01\n",
      "  -2.17110326e-03 -7.96442781e-03  3.30097853e-02]\n",
      " [ 1.73255132e-06 -1.78647923e-02 -1.39538358e-03  7.74726598e-02\n",
      "   1.42375081e-02  3.24800341e-03 -9.96726458e-01]]\n",
      "The explained variances are:\n",
      "[1.01909636e+05 9.65917304e+01 8.07223611e-01 4.21069102e-01\n",
      " 4.13364216e-02 1.60996431e-02 1.08938450e-02]\n"
     ]
    }
   ],
   "source": [
    "ICEdata_noid = ICEdata.drop(['id'], axis = 1)\n",
    "icepca = PCA(n_components=7)\n",
    "icepca.fit(ICEdata_noid)\n",
    "\n",
    "print(\"The principal components are:\")\n",
    "print(icepca.components_)\n",
    "print(\"The explained variances are:\")\n",
    "print(icepca.explained_variance_)"
   ]
  },
  {
   "cell_type": "markdown",
   "metadata": {},
   "source": [
    "From the explained variances, we can see that the first two components explaining substantially more variances than other components. So let's reduce the the data to two dimensions and plot it."
   ]
  },
  {
   "cell_type": "code",
   "execution_count": 11,
   "metadata": {},
   "outputs": [
    {
     "data": {
      "text/plain": [
       "<matplotlib.collections.PathCollection at 0x7fccdbaabbd0>"
      ]
     },
     "execution_count": 11,
     "metadata": {},
     "output_type": "execute_result"
    },
    {
     "data": {
      "image/png": "[encoded data removed]",
      "text/plain": [
       "<Figure size 432x288 with 1 Axes>"
      ]
     },
     "metadata": {
      "needs_background": "light"
     },
     "output_type": "display_data"
    }
   ],
   "source": [
    "icedata_dr = icepca.transform(ICEdata_noid)\n",
    "plt.scatter(icedata_dr[:,0], icedata_dr[:,1])"
   ]
  },
  {
   "cell_type": "markdown",
   "metadata": {},
   "source": [
    "From the scatter plot, we can clearly see three clusters. Let's see if KMeans will help us to pick them up."
   ]
  },
  {
   "cell_type": "code",
   "execution_count": 12,
   "metadata": {},
   "outputs": [
    {
     "data": {
      "text/plain": [
       "<matplotlib.collections.PathCollection at 0x7fccdc22a1d0>"
      ]
     },
     "execution_count": 12,
     "metadata": {},
     "output_type": "execute_result"
    },
    {
     "data": {
      "image/png": "[encoded data removed]",
      "text/plain": [
       "<Figure size 432x288 with 1 Axes>"
      ]
     },
     "metadata": {
      "needs_background": "light"
     },
     "output_type": "display_data"
    }
   ],
   "source": [
    "from sklearn.cluster import KMeans\n",
    "\n",
    "kmeans = KMeans(n_clusters=3)\n",
    "kmeans.fit(icedata_dr)\n",
    "cluster_kmeans = kmeans.predict(icedata_dr)\n",
    "\n",
    "plt.scatter(icedata_dr[:, 0], icedata_dr[:, 1], c=cluster_kmeans, cmap='viridis') # Use cluster_means as the indicator for clusters"
   ]
  },
  {
   "cell_type": "markdown",
   "metadata": {},
   "source": [
    "It looks like the clustering works pretty nicely. So now, it is your turn. Think about two things:\n",
    "\n",
    "(1) What could the two dimensions mean?\n",
    "\n",
    "(2) How would you intepret the KMeans clustering?\n",
    "\n",
    "sklearn does not support an auto-generation of biplot for PCA. So it could be harder to interpret the dimensions. You may need to install pca to do it (https://pypi.org/project/pca/) or check this tutorial to create a biplot by hand.\n",
    "\n",
    "PCA result might be influenced by the scale of each variable. So you can also try to scale the variables and run PCA again to compare the difference."
   ]
  },
  {
   "cell_type": "code",
   "execution_count": 26,
   "metadata": {},
   "outputs": [
    {
     "data": {
      "text/html": [
       "<div>\n",
       "<style scoped>\n",
       "    .dataframe tbody tr th:only-of-type {\n",
       "        vertical-align: middle;\n",
       "    }\n",
       "\n",
       "    .dataframe tbody tr th {\n",
       "        vertical-align: top;\n",
       "    }\n",
       "\n",
       "    .dataframe thead th {\n",
       "        text-align: right;\n",
       "    }\n",
       "</style>\n",
       "<table border=\"1\" class=\"dataframe\">\n",
       "  <thead>\n",
       "    <tr style=\"text-align: right;\">\n",
       "      <th></th>\n",
       "      <th>PC1</th>\n",
       "      <th>PC2</th>\n",
       "    </tr>\n",
       "  </thead>\n",
       "  <tbody>\n",
       "    <tr>\n",
       "      <td>prior_prob_count</td>\n",
       "      <td>0.999998</td>\n",
       "      <td>-0.001735</td>\n",
       "    </tr>\n",
       "    <tr>\n",
       "      <td>prior_percent_correct</td>\n",
       "      <td>0.000033</td>\n",
       "      <td>0.001030</td>\n",
       "    </tr>\n",
       "    <tr>\n",
       "      <td>problems_attempted</td>\n",
       "      <td>0.001722</td>\n",
       "      <td>0.999602</td>\n",
       "    </tr>\n",
       "    <tr>\n",
       "      <td>mean_correct</td>\n",
       "      <td>0.000067</td>\n",
       "      <td>0.002309</td>\n",
       "    </tr>\n",
       "    <tr>\n",
       "      <td>mean_hint</td>\n",
       "      <td>0.000497</td>\n",
       "      <td>0.022302</td>\n",
       "    </tr>\n",
       "    <tr>\n",
       "      <td>mean_attempt</td>\n",
       "      <td>0.000149</td>\n",
       "      <td>0.016966</td>\n",
       "    </tr>\n",
       "    <tr>\n",
       "      <td>mean_confidence</td>\n",
       "      <td>0.000012</td>\n",
       "      <td>-0.000865</td>\n",
       "    </tr>\n",
       "  </tbody>\n",
       "</table>\n",
       "</div>"
      ],
      "text/plain": [
       "                            PC1       PC2\n",
       "prior_prob_count       0.999998 -0.001735\n",
       "prior_percent_correct  0.000033  0.001030\n",
       "problems_attempted     0.001722  0.999602\n",
       "mean_correct           0.000067  0.002309\n",
       "mean_hint              0.000497  0.022302\n",
       "mean_attempt           0.000149  0.016966\n",
       "mean_confidence        0.000012 -0.000865"
      ]
     },
     "execution_count": 26,
     "metadata": {},
     "output_type": "execute_result"
    }
   ],
   "source": [
    "loadings = pd.DataFrame(icepca.components_[:2,:].T, columns=['PC1', 'PC2'], index=ICEdata_noid.columns)\n",
    "loadings"
   ]
  },
  {
   "cell_type": "markdown",
   "metadata": {},
   "source": [
    "From the results, we can see that prior_prob_count has strong effect on PC1, and problems_attempted has strong effect on PC2."
   ]
  },
  {
   "cell_type": "markdown",
   "metadata": {},
   "source": [
    "The 3 clusters are separated by prior_prob_count and problems_attempted"
   ]
  },
  {
   "cell_type": "markdown",
   "metadata": {},
   "source": [
    "### Final Comments"
   ]
  },
  {
   "cell_type": "markdown",
   "metadata": {},
   "source": [
    "Given any high-dimensional dataset, I suggest starting with PCA in order to visualize the relationship between points and to understand the main variance in the data. Certainly PCA is not useful for every high-dimensional dataset, but it offers a straightforward and efficient path to gaining insight into high-dimensional data.\n",
    "\n",
    "PCA's main weakness is that it tends to be highly affected by outliers in the data. For this reason, many robust variants of PCA have been developed, such as SparsePCA in sklearn.\n",
    "\n",
    "In addition, PCA, similar to KMeans, is based on the operationalization of distance. So it does not work very well with categorical variables. Sometimes, you may be able to get away with dichotomous variables (therefore, you can do one-hot encoding) and get good enough results. Theoretically, this may not be the best choice. Other methods such as multiple correspondence analysis but the implementation in Python can be complicated."
   ]
  }
 ],
 "metadata": {
  "kernelspec": {
   "display_name": "Python 3 (ipykernel)",
   "language": "python",
   "name": "python3"
  },
  "language_info": {
   "codemirror_mode": {
    "name": "ipython",
    "version": 3
   },
   "file_extension": ".py",
   "mimetype": "text/x-python",
   "name": "python",
   "nbconvert_exporter": "python",
   "pygments_lexer": "ipython3",
   "version": "3.7.4"
  }
 },
 "nbformat": 4,
 "nbformat_minor": 2
}
