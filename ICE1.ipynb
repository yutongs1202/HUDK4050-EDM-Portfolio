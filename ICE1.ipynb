{
 "cells": [
  {
   "cell_type": "markdown",
   "metadata": {},
   "source": [
    "# Introduction to Data Manipulation in Python - Part 1"
   ]
  },
  {
   "cell_type": "markdown",
   "metadata": {},
   "source": [
    "**Course:** HUDK4050, Week 3"
   ]
  },
  {
   "cell_type": "markdown",
   "metadata": {},
   "source": [
    "**Author:** Yutong Shen"
   ]
  },
  {
   "cell_type": "markdown",
   "metadata": {},
   "source": [
    "**Assignment:** ICE1"
   ]
  },
  {
   "cell_type": "markdown",
   "metadata": {},
   "source": [
    "## Install and Load Packages"
   ]
  },
  {
   "cell_type": "markdown",
   "metadata": {},
   "source": [
    "### Installing python packages"
   ]
  },
  {
   "cell_type": "code",
   "execution_count": 2,
   "metadata": {},
   "outputs": [
    {
     "name": "stdout",
     "output_type": "stream",
     "text": [
      "👍\n"
     ]
    }
   ],
   "source": [
    "from emoji import emojize \n",
    "\n",
    "print(emojize(\":thumbs_up:\")) "
   ]
  },
  {
   "cell_type": "code",
   "execution_count": 3,
   "metadata": {},
   "outputs": [],
   "source": [
    "import array\n",
    "import numpy as np\n",
    "import pandas as pd\n",
    "import matplotlib.pyplot as plt"
   ]
  },
  {
   "cell_type": "markdown",
   "metadata": {},
   "source": [
    "## Understanding data type and structure in Python"
   ]
  },
  {
   "cell_type": "markdown",
   "metadata": {},
   "source": [
    "### Basic data types"
   ]
  },
  {
   "cell_type": "code",
   "execution_count": 5,
   "metadata": {},
   "outputs": [],
   "source": [
    "# variables don't need explicit declaration\n",
    "var = \"Hello World!\" # string\n",
    "var = 7.7 # float\n",
    "var = 7 # int\n",
    "var = True # boolean\n",
    "var = None # boolean"
   ]
  },
  {
   "cell_type": "code",
   "execution_count": 7,
   "metadata": {},
   "outputs": [
    {
     "name": "stdout",
     "output_type": "stream",
     "text": [
      "[1, 2, 3]\n",
      "[0, 1, 2, 3, 4, 5, 6, 7, 8, 9]\n",
      "[True, '2', 3.0, 4]\n"
     ]
    }
   ],
   "source": [
    "l1 = [1, 2, 3]\n",
    "l2 = list(range(10)) # create 10 numbers. Notice here Python starts the counting from 0\n",
    "l3 = [True, \"2\", 3.0, 4] # Python allows dynamic typing, so we can even create heterogeneous lists\n",
    "\n",
    "print(l1)\n",
    "print(l2)\n",
    "print(l3)"
   ]
  },
  {
   "cell_type": "code",
   "execution_count": 8,
   "metadata": {},
   "outputs": [
    {
     "data": {
      "text/plain": [
       "list"
      ]
     },
     "execution_count": 8,
     "metadata": {},
     "output_type": "execute_result"
    }
   ],
   "source": [
    "type(l1)"
   ]
  },
  {
   "cell_type": "markdown",
   "metadata": {},
   "source": [
    "### Fixed-type arrarys in Python"
   ]
  },
  {
   "cell_type": "markdown",
   "metadata": {},
   "source": [
    "Python offers several different options for storing data in efficient, fixed-type data buffers. The built-in array module (available since Python 3.3) can be used to create dense arrays of a uniform type:"
   ]
  },
  {
   "cell_type": "code",
   "execution_count": 9,
   "metadata": {},
   "outputs": [
    {
     "data": {
      "text/plain": [
       "array('i', [0, 1, 2, 3, 4, 5, 6, 7, 8, 9])"
      ]
     },
     "execution_count": 9,
     "metadata": {},
     "output_type": "execute_result"
    }
   ],
   "source": [
    "A = array.array('i', l2) # Notice here arrary.array() means the array function under the module array.\n",
    "                        # array is a package that we have loaded previously.\n",
    "A"
   ]
  },
  {
   "cell_type": "markdown",
   "metadata": {},
   "source": [
    "### Creating arrays"
   ]
  },
  {
   "cell_type": "code",
   "execution_count": 11,
   "metadata": {},
   "outputs": [
    {
     "name": "stdout",
     "output_type": "stream",
     "text": [
      "[0 0 0 0 0 0 0 0 0 0]\n",
      "[[1. 1. 1. 1. 1.]\n",
      " [1. 1. 1. 1. 1.]\n",
      " [1. 1. 1. 1. 1.]]\n",
      "[[3.14 3.14 3.14 3.14 3.14]\n",
      " [3.14 3.14 3.14 3.14 3.14]\n",
      " [3.14 3.14 3.14 3.14 3.14]]\n",
      "[[3 9 6]\n",
      " [1 4 1]\n",
      " [7 4 8]]\n"
     ]
    }
   ],
   "source": [
    "# Create a length-10 integer array filled with zeros\n",
    "print(np.zeros(10, dtype=int))\n",
    "\n",
    "# Create a 3x5 floating-point array filled with ones\n",
    "print(np.ones((3, 5), dtype=float))\n",
    "\n",
    "# Create a 3x5 array filled with 3.14\n",
    "print(np.full((3, 5), 3.14))\n",
    "\n",
    "# Create a 3x3 array of random integers in the interval [0, 10)\n",
    "print(np.random.randint(0, 10, (3, 3)))"
   ]
  },
  {
   "cell_type": "markdown",
   "metadata": {},
   "source": [
    "### Pandas objects"
   ]
  },
  {
   "cell_type": "code",
   "execution_count": 12,
   "metadata": {},
   "outputs": [
    {
     "data": {
      "text/plain": [
       "0    1.0\n",
       "1    2.0\n",
       "2    3.0\n",
       "3    4.0\n",
       "dtype: float64"
      ]
     },
     "execution_count": 12,
     "metadata": {},
     "output_type": "execute_result"
    }
   ],
   "source": [
    "# A Pandas Series is a one-dimensional array of indexed data. It can be created from a list or array\n",
    "S = pd.Series([1, 2, 3, 4.0])\n",
    "S"
   ]
  },
  {
   "cell_type": "code",
   "execution_count": 13,
   "metadata": {},
   "outputs": [
    {
     "data": {
      "text/html": [
       "<div>\n",
       "<style scoped>\n",
       "    .dataframe tbody tr th:only-of-type {\n",
       "        vertical-align: middle;\n",
       "    }\n",
       "\n",
       "    .dataframe tbody tr th {\n",
       "        vertical-align: top;\n",
       "    }\n",
       "\n",
       "    .dataframe thead th {\n",
       "        text-align: right;\n",
       "    }\n",
       "</style>\n",
       "<table border=\"1\" class=\"dataframe\">\n",
       "  <thead>\n",
       "    <tr style=\"text-align: right;\">\n",
       "      <th></th>\n",
       "      <th>foo</th>\n",
       "      <th>bar</th>\n",
       "    </tr>\n",
       "  </thead>\n",
       "  <tbody>\n",
       "    <tr>\n",
       "      <td>a</td>\n",
       "      <td>0.001425</td>\n",
       "      <td>0.318463</td>\n",
       "    </tr>\n",
       "    <tr>\n",
       "      <td>b</td>\n",
       "      <td>0.481749</td>\n",
       "      <td>0.927862</td>\n",
       "    </tr>\n",
       "    <tr>\n",
       "      <td>c</td>\n",
       "      <td>0.783731</td>\n",
       "      <td>0.099436</td>\n",
       "    </tr>\n",
       "  </tbody>\n",
       "</table>\n",
       "</div>"
      ],
      "text/plain": [
       "        foo       bar\n",
       "a  0.001425  0.318463\n",
       "b  0.481749  0.927862\n",
       "c  0.783731  0.099436"
      ]
     },
     "execution_count": 13,
     "metadata": {},
     "output_type": "execute_result"
    }
   ],
   "source": [
    "# a DataFrame is an analog of a two-dimensional array with both flexible row indices and flexible column names\n",
    "pd.DataFrame(np.random.rand(3, 2), # this is similar to previous np.random.randint(), only the random value is going to be between 0 to 1.\n",
    "             columns=['foo', 'bar'], # column names\n",
    "             index=['a', 'b', 'c']) # row names"
   ]
  },
  {
   "cell_type": "markdown",
   "metadata": {},
   "source": [
    "### Importing data"
   ]
  },
  {
   "cell_type": "code",
   "execution_count": 14,
   "metadata": {},
   "outputs": [
    {
     "data": {
      "text/html": [
       "<div>\n",
       "<style scoped>\n",
       "    .dataframe tbody tr th:only-of-type {\n",
       "        vertical-align: middle;\n",
       "    }\n",
       "\n",
       "    .dataframe tbody tr th {\n",
       "        vertical-align: top;\n",
       "    }\n",
       "\n",
       "    .dataframe thead th {\n",
       "        text-align: right;\n",
       "    }\n",
       "</style>\n",
       "<table border=\"1\" class=\"dataframe\">\n",
       "  <thead>\n",
       "    <tr style=\"text-align: right;\">\n",
       "      <th></th>\n",
       "      <th>DBN</th>\n",
       "      <th>Quality_Review_Score</th>\n",
       "      <th>Progress_Rpt_10-11</th>\n",
       "      <th>Student_Progress_10-11</th>\n",
       "      <th>graduation 2010-11</th>\n",
       "      <th>college enroll 2010-11</th>\n",
       "    </tr>\n",
       "  </thead>\n",
       "  <tbody>\n",
       "    <tr>\n",
       "      <td>0</td>\n",
       "      <td>01M292</td>\n",
       "      <td>Developing</td>\n",
       "      <td>C</td>\n",
       "      <td>C</td>\n",
       "      <td>0.563</td>\n",
       "      <td>0.519</td>\n",
       "    </tr>\n",
       "    <tr>\n",
       "      <td>1</td>\n",
       "      <td>01M448</td>\n",
       "      <td>Developing</td>\n",
       "      <td>C</td>\n",
       "      <td>B</td>\n",
       "      <td>0.707</td>\n",
       "      <td>0.363</td>\n",
       "    </tr>\n",
       "    <tr>\n",
       "      <td>2</td>\n",
       "      <td>01M450</td>\n",
       "      <td>Well Developed</td>\n",
       "      <td>A</td>\n",
       "      <td>B</td>\n",
       "      <td>0.716</td>\n",
       "      <td>0.692</td>\n",
       "    </tr>\n",
       "    <tr>\n",
       "      <td>3</td>\n",
       "      <td>01M509</td>\n",
       "      <td>Proficient</td>\n",
       "      <td>C</td>\n",
       "      <td>C</td>\n",
       "      <td>0.564</td>\n",
       "      <td>0.477</td>\n",
       "    </tr>\n",
       "    <tr>\n",
       "      <td>4</td>\n",
       "      <td>01M539</td>\n",
       "      <td>Proficient</td>\n",
       "      <td>A</td>\n",
       "      <td>A</td>\n",
       "      <td>0.953</td>\n",
       "      <td>0.870</td>\n",
       "    </tr>\n",
       "    <tr>\n",
       "      <td>...</td>\n",
       "      <td>...</td>\n",
       "      <td>...</td>\n",
       "      <td>...</td>\n",
       "      <td>...</td>\n",
       "      <td>...</td>\n",
       "      <td>...</td>\n",
       "    </tr>\n",
       "    <tr>\n",
       "      <td>417</td>\n",
       "      <td>10X696</td>\n",
       "      <td>Well Developed</td>\n",
       "      <td>A</td>\n",
       "      <td>A</td>\n",
       "      <td>1.000</td>\n",
       "      <td>0.936</td>\n",
       "    </tr>\n",
       "    <tr>\n",
       "      <td>418</td>\n",
       "      <td>13K430</td>\n",
       "      <td>Proficient</td>\n",
       "      <td>B</td>\n",
       "      <td>B</td>\n",
       "      <td>0.977</td>\n",
       "      <td>0.867</td>\n",
       "    </tr>\n",
       "    <tr>\n",
       "      <td>419</td>\n",
       "      <td>10X445</td>\n",
       "      <td>Well Developed</td>\n",
       "      <td>A</td>\n",
       "      <td>A</td>\n",
       "      <td>1.000</td>\n",
       "      <td>0.994</td>\n",
       "    </tr>\n",
       "    <tr>\n",
       "      <td>420</td>\n",
       "      <td>14K449</td>\n",
       "      <td>Well Developed</td>\n",
       "      <td>B</td>\n",
       "      <td>B</td>\n",
       "      <td>0.914</td>\n",
       "      <td>0.961</td>\n",
       "    </tr>\n",
       "    <tr>\n",
       "      <td>421</td>\n",
       "      <td>28Q687</td>\n",
       "      <td>Proficient</td>\n",
       "      <td>A</td>\n",
       "      <td>B</td>\n",
       "      <td>1.000</td>\n",
       "      <td>0.972</td>\n",
       "    </tr>\n",
       "  </tbody>\n",
       "</table>\n",
       "<p>422 rows × 6 columns</p>\n",
       "</div>"
      ],
      "text/plain": [
       "        DBN Quality_Review_Score Progress_Rpt_10-11 Student_Progress_10-11  \\\n",
       "0    01M292           Developing                  C                      C   \n",
       "1    01M448           Developing                  C                      B   \n",
       "2    01M450       Well Developed                  A                      B   \n",
       "3    01M509           Proficient                  C                      C   \n",
       "4    01M539           Proficient                  A                      A   \n",
       "..      ...                  ...                ...                    ...   \n",
       "417  10X696       Well Developed                  A                      A   \n",
       "418  13K430           Proficient                  B                      B   \n",
       "419  10X445       Well Developed                  A                      A   \n",
       "420  14K449       Well Developed                  B                      B   \n",
       "421  28Q687           Proficient                  A                      B   \n",
       "\n",
       "     graduation 2010-11  college enroll 2010-11  \n",
       "0                 0.563                   0.519  \n",
       "1                 0.707                   0.363  \n",
       "2                 0.716                   0.692  \n",
       "3                 0.564                   0.477  \n",
       "4                 0.953                   0.870  \n",
       "..                  ...                     ...  \n",
       "417               1.000                   0.936  \n",
       "418               0.977                   0.867  \n",
       "419               1.000                   0.994  \n",
       "420               0.914                   0.961  \n",
       "421               1.000                   0.972  \n",
       "\n",
       "[422 rows x 6 columns]"
      ]
     },
     "execution_count": 14,
     "metadata": {},
     "output_type": "execute_result"
    }
   ],
   "source": [
    "ICEdata = pd.read_csv(\"ICE1_Data.csv\")\n",
    "ICEdata"
   ]
  },
  {
   "cell_type": "markdown",
   "metadata": {},
   "source": [
    "### Data summary"
   ]
  },
  {
   "cell_type": "code",
   "execution_count": 15,
   "metadata": {},
   "outputs": [
    {
     "data": {
      "text/html": [
       "<div>\n",
       "<style scoped>\n",
       "    .dataframe tbody tr th:only-of-type {\n",
       "        vertical-align: middle;\n",
       "    }\n",
       "\n",
       "    .dataframe tbody tr th {\n",
       "        vertical-align: top;\n",
       "    }\n",
       "\n",
       "    .dataframe thead th {\n",
       "        text-align: right;\n",
       "    }\n",
       "</style>\n",
       "<table border=\"1\" class=\"dataframe\">\n",
       "  <thead>\n",
       "    <tr style=\"text-align: right;\">\n",
       "      <th></th>\n",
       "      <th>DBN</th>\n",
       "      <th>Quality_Review_Score</th>\n",
       "      <th>Progress_Rpt_10-11</th>\n",
       "      <th>Student_Progress_10-11</th>\n",
       "      <th>graduation 2010-11</th>\n",
       "      <th>college enroll 2010-11</th>\n",
       "    </tr>\n",
       "  </thead>\n",
       "  <tbody>\n",
       "    <tr>\n",
       "      <td>count</td>\n",
       "      <td>422</td>\n",
       "      <td>368</td>\n",
       "      <td>310</td>\n",
       "      <td>310</td>\n",
       "      <td>310.000000</td>\n",
       "      <td>291.000000</td>\n",
       "    </tr>\n",
       "    <tr>\n",
       "      <td>unique</td>\n",
       "      <td>422</td>\n",
       "      <td>6</td>\n",
       "      <td>5</td>\n",
       "      <td>5</td>\n",
       "      <td>NaN</td>\n",
       "      <td>NaN</td>\n",
       "    </tr>\n",
       "    <tr>\n",
       "      <td>top</td>\n",
       "      <td>02M500</td>\n",
       "      <td>Proficient</td>\n",
       "      <td>A</td>\n",
       "      <td>C</td>\n",
       "      <td>NaN</td>\n",
       "      <td>NaN</td>\n",
       "    </tr>\n",
       "    <tr>\n",
       "      <td>freq</td>\n",
       "      <td>1</td>\n",
       "      <td>186</td>\n",
       "      <td>109</td>\n",
       "      <td>93</td>\n",
       "      <td>NaN</td>\n",
       "      <td>NaN</td>\n",
       "    </tr>\n",
       "    <tr>\n",
       "      <td>mean</td>\n",
       "      <td>NaN</td>\n",
       "      <td>NaN</td>\n",
       "      <td>NaN</td>\n",
       "      <td>NaN</td>\n",
       "      <td>0.737977</td>\n",
       "      <td>0.531196</td>\n",
       "    </tr>\n",
       "    <tr>\n",
       "      <td>std</td>\n",
       "      <td>NaN</td>\n",
       "      <td>NaN</td>\n",
       "      <td>NaN</td>\n",
       "      <td>NaN</td>\n",
       "      <td>0.143356</td>\n",
       "      <td>0.193129</td>\n",
       "    </tr>\n",
       "    <tr>\n",
       "      <td>min</td>\n",
       "      <td>NaN</td>\n",
       "      <td>NaN</td>\n",
       "      <td>NaN</td>\n",
       "      <td>NaN</td>\n",
       "      <td>0.412000</td>\n",
       "      <td>0.141000</td>\n",
       "    </tr>\n",
       "    <tr>\n",
       "      <td>25%</td>\n",
       "      <td>NaN</td>\n",
       "      <td>NaN</td>\n",
       "      <td>NaN</td>\n",
       "      <td>NaN</td>\n",
       "      <td>0.625250</td>\n",
       "      <td>0.391000</td>\n",
       "    </tr>\n",
       "    <tr>\n",
       "      <td>50%</td>\n",
       "      <td>NaN</td>\n",
       "      <td>NaN</td>\n",
       "      <td>NaN</td>\n",
       "      <td>NaN</td>\n",
       "      <td>0.726000</td>\n",
       "      <td>0.489000</td>\n",
       "    </tr>\n",
       "    <tr>\n",
       "      <td>75%</td>\n",
       "      <td>NaN</td>\n",
       "      <td>NaN</td>\n",
       "      <td>NaN</td>\n",
       "      <td>NaN</td>\n",
       "      <td>0.850750</td>\n",
       "      <td>0.656000</td>\n",
       "    </tr>\n",
       "    <tr>\n",
       "      <td>max</td>\n",
       "      <td>NaN</td>\n",
       "      <td>NaN</td>\n",
       "      <td>NaN</td>\n",
       "      <td>NaN</td>\n",
       "      <td>1.000000</td>\n",
       "      <td>1.000000</td>\n",
       "    </tr>\n",
       "  </tbody>\n",
       "</table>\n",
       "</div>"
      ],
      "text/plain": [
       "           DBN Quality_Review_Score Progress_Rpt_10-11 Student_Progress_10-11  \\\n",
       "count      422                  368                310                    310   \n",
       "unique     422                    6                  5                      5   \n",
       "top     02M500           Proficient                  A                      C   \n",
       "freq         1                  186                109                     93   \n",
       "mean       NaN                  NaN                NaN                    NaN   \n",
       "std        NaN                  NaN                NaN                    NaN   \n",
       "min        NaN                  NaN                NaN                    NaN   \n",
       "25%        NaN                  NaN                NaN                    NaN   \n",
       "50%        NaN                  NaN                NaN                    NaN   \n",
       "75%        NaN                  NaN                NaN                    NaN   \n",
       "max        NaN                  NaN                NaN                    NaN   \n",
       "\n",
       "        graduation 2010-11  college enroll 2010-11  \n",
       "count           310.000000              291.000000  \n",
       "unique                 NaN                     NaN  \n",
       "top                    NaN                     NaN  \n",
       "freq                   NaN                     NaN  \n",
       "mean              0.737977                0.531196  \n",
       "std               0.143356                0.193129  \n",
       "min               0.412000                0.141000  \n",
       "25%               0.625250                0.391000  \n",
       "50%               0.726000                0.489000  \n",
       "75%               0.850750                0.656000  \n",
       "max               1.000000                1.000000  "
      ]
     },
     "execution_count": 15,
     "metadata": {},
     "output_type": "execute_result"
    }
   ],
   "source": [
    "ICEdata.describe(include = 'all')"
   ]
  },
  {
   "cell_type": "code",
   "execution_count": 16,
   "metadata": {},
   "outputs": [
    {
     "name": "stdout",
     "output_type": "stream",
     "text": [
      "['Developing' 'Well Developed' 'Proficient' nan 'Underdeveloped'\n",
      " 'Outstanding (only an option in 2007-8)'\n",
      " 'Underdeveloped with Proficient Features (only an option in 2007-8, 2008-9 and 2009-10)']\n"
     ]
    }
   ],
   "source": [
    "# get a list of individual values for a column\n",
    "print(ICEdata['Quality_Review_Score'].unique())"
   ]
  },
  {
   "cell_type": "code",
   "execution_count": 17,
   "metadata": {},
   "outputs": [
    {
     "data": {
      "text/plain": [
       "Proficient                                                                                186\n",
       "Well Developed                                                                            108\n",
       "Developing                                                                                 64\n",
       "Underdeveloped                                                                              6\n",
       "Outstanding (only an option in 2007-8)                                                      3\n",
       "Underdeveloped with Proficient Features (only an option in 2007-8, 2008-9 and 2009-10)      1\n",
       "Name: Quality_Review_Score, dtype: int64"
      ]
     },
     "execution_count": 17,
     "metadata": {},
     "output_type": "execute_result"
    }
   ],
   "source": [
    "# get a frequency count for each values\n",
    "ICEdata['Quality_Review_Score'].value_counts()"
   ]
  },
  {
   "cell_type": "markdown",
   "metadata": {},
   "source": [
    "### Selecting limited variables"
   ]
  },
  {
   "cell_type": "code",
   "execution_count": 18,
   "metadata": {},
   "outputs": [
    {
     "data": {
      "text/html": [
       "<div>\n",
       "<style scoped>\n",
       "    .dataframe tbody tr th:only-of-type {\n",
       "        vertical-align: middle;\n",
       "    }\n",
       "\n",
       "    .dataframe tbody tr th {\n",
       "        vertical-align: top;\n",
       "    }\n",
       "\n",
       "    .dataframe thead th {\n",
       "        text-align: right;\n",
       "    }\n",
       "</style>\n",
       "<table border=\"1\" class=\"dataframe\">\n",
       "  <thead>\n",
       "    <tr style=\"text-align: right;\">\n",
       "      <th></th>\n",
       "      <th>Quality_Review_Score</th>\n",
       "      <th>graduation 2010-11</th>\n",
       "      <th>college enroll 2010-11</th>\n",
       "    </tr>\n",
       "  </thead>\n",
       "  <tbody>\n",
       "    <tr>\n",
       "      <td>0</td>\n",
       "      <td>Developing</td>\n",
       "      <td>0.563</td>\n",
       "      <td>0.519</td>\n",
       "    </tr>\n",
       "    <tr>\n",
       "      <td>1</td>\n",
       "      <td>Developing</td>\n",
       "      <td>0.707</td>\n",
       "      <td>0.363</td>\n",
       "    </tr>\n",
       "    <tr>\n",
       "      <td>2</td>\n",
       "      <td>Well Developed</td>\n",
       "      <td>0.716</td>\n",
       "      <td>0.692</td>\n",
       "    </tr>\n",
       "    <tr>\n",
       "      <td>3</td>\n",
       "      <td>Proficient</td>\n",
       "      <td>0.564</td>\n",
       "      <td>0.477</td>\n",
       "    </tr>\n",
       "    <tr>\n",
       "      <td>4</td>\n",
       "      <td>Proficient</td>\n",
       "      <td>0.953</td>\n",
       "      <td>0.870</td>\n",
       "    </tr>\n",
       "    <tr>\n",
       "      <td>...</td>\n",
       "      <td>...</td>\n",
       "      <td>...</td>\n",
       "      <td>...</td>\n",
       "    </tr>\n",
       "    <tr>\n",
       "      <td>417</td>\n",
       "      <td>Well Developed</td>\n",
       "      <td>1.000</td>\n",
       "      <td>0.936</td>\n",
       "    </tr>\n",
       "    <tr>\n",
       "      <td>418</td>\n",
       "      <td>Proficient</td>\n",
       "      <td>0.977</td>\n",
       "      <td>0.867</td>\n",
       "    </tr>\n",
       "    <tr>\n",
       "      <td>419</td>\n",
       "      <td>Well Developed</td>\n",
       "      <td>1.000</td>\n",
       "      <td>0.994</td>\n",
       "    </tr>\n",
       "    <tr>\n",
       "      <td>420</td>\n",
       "      <td>Well Developed</td>\n",
       "      <td>0.914</td>\n",
       "      <td>0.961</td>\n",
       "    </tr>\n",
       "    <tr>\n",
       "      <td>421</td>\n",
       "      <td>Proficient</td>\n",
       "      <td>1.000</td>\n",
       "      <td>0.972</td>\n",
       "    </tr>\n",
       "  </tbody>\n",
       "</table>\n",
       "<p>422 rows × 3 columns</p>\n",
       "</div>"
      ],
      "text/plain": [
       "    Quality_Review_Score  graduation 2010-11  college enroll 2010-11\n",
       "0             Developing               0.563                   0.519\n",
       "1             Developing               0.707                   0.363\n",
       "2         Well Developed               0.716                   0.692\n",
       "3             Proficient               0.564                   0.477\n",
       "4             Proficient               0.953                   0.870\n",
       "..                   ...                 ...                     ...\n",
       "417       Well Developed               1.000                   0.936\n",
       "418           Proficient               0.977                   0.867\n",
       "419       Well Developed               1.000                   0.994\n",
       "420       Well Developed               0.914                   0.961\n",
       "421           Proficient               1.000                   0.972\n",
       "\n",
       "[422 rows x 3 columns]"
      ]
     },
     "execution_count": 18,
     "metadata": {},
     "output_type": "execute_result"
    }
   ],
   "source": [
    "qualityEnroll = graduationEnroll = ICEdata[['Quality_Review_Score', 'graduation 2010-11', 'college enroll 2010-11']]\n",
    "qualityEnroll"
   ]
  },
  {
   "cell_type": "markdown",
   "metadata": {},
   "source": [
    "### Plotting"
   ]
  },
  {
   "cell_type": "code",
   "execution_count": 19,
   "metadata": {},
   "outputs": [
    {
     "data": {
      "text/plain": [
       "<matplotlib.axes._subplots.AxesSubplot at 0x7ff6398e7ed0>"
      ]
     },
     "execution_count": 19,
     "metadata": {},
     "output_type": "execute_result"
    },
    {
     "data": {
      "image/png": "[encoded data removed]",
      "text/plain": [
       "<Figure size 432x288 with 1 Axes>"
      ]
     },
     "metadata": {
      "needs_background": "light"
     },
     "output_type": "display_data"
    }
   ],
   "source": [
    "# For scatter plot, you will need to specify the x and y-axises.\n",
    "graduationEnroll.plot.scatter(x = 'graduation 2010-11', y = 'college enroll 2010-11')"
   ]
  },
  {
   "cell_type": "code",
   "execution_count": 22,
   "metadata": {},
   "outputs": [
    {
     "data": {
      "text/plain": [
       "<matplotlib.axes._subplots.AxesSubplot at 0x7ff639da1310>"
      ]
     },
     "execution_count": 22,
     "metadata": {},
     "output_type": "execute_result"
    },
    {
     "data": {
      "image/png": "[encoded data removed]",
      "text/plain": [
       "<Figure size 432x288 with 1 Axes>"
      ]
     },
     "metadata": {
      "needs_background": "light"
     },
     "output_type": "display_data"
    }
   ],
   "source": [
    "graduationEnroll['college enroll 2010-11'].plot.hist()"
   ]
  },
  {
   "cell_type": "code",
   "execution_count": 23,
   "metadata": {},
   "outputs": [
    {
     "data": {
      "text/plain": [
       "<matplotlib.axes._subplots.AxesSubplot at 0x7ff639e24e50>"
      ]
     },
     "execution_count": 23,
     "metadata": {},
     "output_type": "execute_result"
    },
    {
     "data": {
      "image/png": "[encoded data removed]",
      "text/plain": [
       "<Figure size 432x288 with 1 Axes>"
      ]
     },
     "metadata": {
      "needs_background": "light"
     },
     "output_type": "display_data"
    }
   ],
   "source": [
    "graduationEnroll['graduation 2010-11'].plot.hist()"
   ]
  }
 ],
 "metadata": {
  "kernelspec": {
   "display_name": "Python 3 (ipykernel)",
   "language": "python",
   "name": "python3"
  },
  "language_info": {
   "codemirror_mode": {
    "name": "ipython",
    "version": 3
   },
   "file_extension": ".py",
   "mimetype": "text/x-python",
   "name": "python",
   "nbconvert_exporter": "python",
   "pygments_lexer": "ipython3",
   "version": "3.7.4"
  }
 },
 "nbformat": 4,
 "nbformat_minor": 2
}
